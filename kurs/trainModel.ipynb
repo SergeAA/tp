{
 "cells": [
  {
   "cell_type": "markdown",
   "metadata": {},
   "source": [
    "# Курсовой\n",
    "\n",
    "- за основу брались Otvety.txt преобразованные в answers.txt\n",
    "- все полезные функции вынесены в bot.py\n",
    "- здесь процесс обучения и сохранения модельки / ответов / индекса\n",
    "- также внизу подобие чата чтобы тестить\n",
    "\n",
    "если запустить ```bot.py``` то можно проверить в телеграме весь конфиг вынесен в ```config.py``` но его в репозитории не будет по понятным причинам:)\n",
    "\n",
    "мой бот в телеграме называется [gbkurs_bot](https://t.me/gbkurs_bot)"
   ]
  },
  {
   "cell_type": "code",
   "execution_count": 1,
   "metadata": {
    "ExecuteTime": {
     "end_time": "2020-10-04T07:12:47.480352Z",
     "start_time": "2020-10-04T07:12:44.251273Z"
    }
   },
   "outputs": [],
   "source": [
    "import annoy\n",
    "import os\n",
    "import pandas as pd\n",
    "from gensim.models import FastText\n",
    "from tqdm import notebook\n",
    "\n",
    "from bot import ROOT, EMBEDING_COUNT, getVector, preprocess_txt, clean_str, getResponse\n",
    "from bot import MINDESTINATION, MAXDESTINATION"
   ]
  },
  {
   "cell_type": "code",
   "execution_count": 2,
   "metadata": {
    "ExecuteTime": {
     "end_time": "2020-10-04T07:12:57.934179Z",
     "start_time": "2020-10-04T07:12:47.483356Z"
    }
   },
   "outputs": [],
   "source": [
    "if not os.path.exists(f'{ROOT}df.pkl'):\n",
    "    tmp = []\n",
    "    with open(\"../data/answers.txt\", \"r\") as f:\n",
    "        for line in notebook.tqdm(f):\n",
    "            tb = line.split(\"\\t\")\n",
    "            q = preprocess_txt(tb[0])\n",
    "            if len(q) > 2:\n",
    "                a = clean_str(tb[1])\n",
    "                tmp.append([q, a])\n",
    "    df = pd.DataFrame(tmp, columns=['question', 'answer'])\n",
    "    df.to_pickle(f'{ROOT}df.pkl')\n",
    "else:\n",
    "    df = pd.read_pickle(f'{ROOT}df.pkl')"
   ]
  },
  {
   "cell_type": "code",
   "execution_count": 3,
   "metadata": {
    "ExecuteTime": {
     "end_time": "2020-10-04T07:13:00.907510Z",
     "start_time": "2020-10-04T07:12:57.936667Z"
    }
   },
   "outputs": [],
   "source": [
    "if not os.path.exists(f'{ROOT}ft_model'):\n",
    "    model = FastText(sentences=df.question.values, size=EMBEDING_COUNT, min_count=10, window=3)\n",
    "    model.save(f'{ROOT}ft_model')\n",
    "else:\n",
    "    model = FastText.load(f'{ROOT}ft_model')"
   ]
  },
  {
   "cell_type": "code",
   "execution_count": 4,
   "metadata": {
    "ExecuteTime": {
     "end_time": "2020-10-04T07:13:00.917862Z",
     "start_time": "2020-10-04T07:13:00.910299Z"
    }
   },
   "outputs": [],
   "source": [
    "index = annoy.AnnoyIndex(EMBEDING_COUNT ,'angular')\n",
    "if not os.path.exists(f'{ROOT}speaker.ann'):\n",
    "    for i, question in enumerate(df.question.values):\n",
    "        index.add_item(i, getVector(question, model))\n",
    "    index.build(10)\n",
    "    index.save(f'{ROOT}speaker.ann')\n",
    "else:\n",
    "    index.load(f'{ROOT}speaker.ann')"
   ]
  },
  {
   "cell_type": "code",
   "execution_count": 5,
   "metadata": {
    "ExecuteTime": {
     "end_time": "2020-10-04T07:19:25.207636Z",
     "start_time": "2020-10-04T07:13:00.924354Z"
    }
   },
   "outputs": [
    {
     "name": "stdout",
     "output_type": "stream",
     "text": [
      "привет\n",
      "0.309: Привет как ты  \n",
      "я нормально\n",
      "0.496: Такое бывает \n",
      "расскажи мне что-нибудь\n",
      "0.304: Возвращается женщина после работы домой  уставшая  сумки с продуктами тяжеленные  заходит в подъезд  ... хотя все это ерунда\n",
      "интересно а что еще ты можешь рассказать?\n",
      "0.273: Представляешь  никто даже не попытался      разве что здесь  на сайте ответов    звание  высшего ... хотя все это ерунда\n",
      "что не пытался ?\n",
      "0.526:    а он вообще что понимает     ему тем более всё  по барабану    \n",
      "кому ему \n",
      "0.371: Я завидую тольок себе самой  . Хоть бы денёк никому не нужна была    мечтаю    добрый вечерок    \n",
      "модель обучена ужасно\n",
      "0.566: Ты пришёл на работу  а тебе за вчерашнее вы уволены  . Www livemocha com посмотри \n",
      "ну вот еще и уволила\n",
      "0.410: Применить дисциплинарное взыскание в виде увольнения  при этом не забывая соблюсти процедуру ст  193 ... хотя все это ерунда\n",
      "хоть где то попадает примерно\n",
      "0.484: Ноги окривеют таскать такой вес . Либо винтовка дрянь либо пульки разновес  \n",
      "гыгы\n",
      "гы гы гы\n",
      "ну и ладно\n",
      "0.459: А вот не видели их  вот и возмущаемся     одна ты красавица тут   \n",
      "сам ты красавица\n",
      "0.499: Да да  на некоторых без макияжа и не взглянешь  в штатах существует такая фишка  там у людей ... хотя кому я это говорю\n",
      "очень интересный чат получается\n",
      "0.400: Рекомендую чат портал http   www zerkalo chats ru  там на выбор 4 чата  романтический  беспредел  ... хотя все это ерунда\n",
      "ну вот теперь он мне еще какие то сайты рекомендует\n",
      "0.217: Там же всё написано и показано \n",
      "да я понял уже\n",
      "0.226: Постараюсь изложить всё по простому  чтоб не было больше вопроса никакого \n",
      "давай\n",
      "0.256: Если сильное желание  то без прелюдий отдаюсь  как захочет  а потом уже можно понежиться и ... хотя кому я это говорю\n",
      "глупая бездушная машина\n",
      "0.607: Ключевые слова  женщина     мужчина    лес     жывотные    . Каждый ищет  по себе  \n",
      "\n"
     ]
    }
   ],
   "source": [
    "q = 'start'\n",
    "while q != '':\n",
    "    q = input()\n",
    "    text, dst = getResponse(q, model, index, df.answer)\n",
    "    if dst <= MAXDESTINATION:\n",
    "        print(f'{dst:0.3f}: {text}')"
   ]
  }
 ],
 "metadata": {
  "kernelspec": {
   "display_name": "Python 3",
   "language": "python",
   "name": "python3"
  },
  "language_info": {
   "codemirror_mode": {
    "name": "ipython",
    "version": 3
   },
   "file_extension": ".py",
   "mimetype": "text/x-python",
   "name": "python",
   "nbconvert_exporter": "python",
   "pygments_lexer": "ipython3",
   "version": "3.7.1"
  },
  "toc": {
   "base_numbering": 1,
   "nav_menu": {},
   "number_sections": true,
   "sideBar": true,
   "skip_h1_title": false,
   "title_cell": "Table of Contents",
   "title_sidebar": "Contents",
   "toc_cell": false,
   "toc_position": {},
   "toc_section_display": true,
   "toc_window_display": false
  }
 },
 "nbformat": 4,
 "nbformat_minor": 2
}
