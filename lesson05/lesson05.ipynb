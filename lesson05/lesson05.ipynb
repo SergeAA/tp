{
 "cells": [
  {
   "cell_type": "markdown",
   "metadata": {
    "colab_type": "text",
    "id": "V8FsvOED8UlF"
   },
   "source": [
    "# ДЗ №5\n",
    "\n",
    "Задание из 2-х частей.\n",
    "Берем отызывы за лето (из архива с материалами или предыдущего занятия)"
   ]
  },
  {
   "cell_type": "markdown",
   "metadata": {
    "colab_type": "text",
    "id": "V8FsvOED8UlF"
   },
   "source": [
    "### Загрузка данных"
   ]
  },
  {
   "cell_type": "code",
   "execution_count": 12,
   "metadata": {
    "ExecuteTime": {
     "end_time": "2020-09-14T06:28:22.983662Z",
     "start_time": "2020-09-14T06:28:22.447636Z"
    }
   },
   "outputs": [],
   "source": [
    "import numpy as np\n",
    "import pandas as pd\n",
    "import matplotlib.pyplot as plt\n",
    "\n",
    "from sklearn.model_selection import train_test_split\n",
    "from string import punctuation\n",
    "from stop_words import get_stop_words\n",
    "from pymorphy2 import MorphAnalyzer\n",
    "import re\n",
    "import nltk\n",
    "from nltk.tokenize import word_tokenize\n",
    "from nltk.probability import FreqDist\n",
    "# nltk.download(\"punkt\")\n",
    "\n",
    "import keras\n",
    "from keras.models import Sequential, Model\n",
    "from keras.layers import Dense, Dropout, Activation, Input, Embedding, Conv1D, GlobalMaxPool1D, MaxPooling1D\n",
    "from keras.preprocessing.text import Tokenizer\n",
    "from keras.preprocessing.sequence import pad_sequences\n",
    "from keras.objectives import categorical_crossentropy\n",
    "from keras.callbacks import EarlyStopping  "
   ]
  },
  {
   "cell_type": "code",
   "execution_count": 13,
   "metadata": {
    "ExecuteTime": {
     "end_time": "2020-09-14T06:28:23.518332Z",
     "start_time": "2020-09-14T06:28:22.991467Z"
    }
   },
   "outputs": [],
   "source": [
    "sw = set(get_stop_words(\"ru\"))\n",
    "exclude = set(punctuation)\n",
    "morpher = MorphAnalyzer()\n",
    "\n",
    "def preprocess_text(txt):\n",
    "    txt = str(txt)\n",
    "    txt = \"\".join(c for c in txt if c not in exclude)\n",
    "    txt = txt.lower()\n",
    "    txt = re.sub(\"\\sне\", \"не\", txt)\n",
    "    txt = [morpher.parse(word)[0].normal_form for word in txt.split() if word not in sw]\n",
    "    return \" \".join(txt)\n",
    "\n",
    "def getVocabulary(corpus):\n",
    "    tokens = word_tokenize(corpus.lower())\n",
    "    tokens_filtered = [word for word in tokens if word.isalnum()]\n",
    "\n",
    "    dist = FreqDist(tokens_filtered)\n",
    "    tokens_filtered_top = [pair[0] for pair in dist.most_common(max_words-1)]\n",
    "\n",
    "    return {v: k for k, v in dict(enumerate(tokens_filtered_top, 1)).items()}\n",
    "\n",
    "def text_to_sequence(text, maxlen, vocabulary):\n",
    "    result = []\n",
    "    tokens = word_tokenize(text.lower())\n",
    "    tokens_filtered = [word for word in tokens if word.isalnum()]\n",
    "    for word in tokens_filtered:\n",
    "        if word in vocabulary:\n",
    "            result.append(vocabulary[word])\n",
    "    padding = [0]*(maxlen-len(result))\n",
    "    return padding + result[-maxlen:]"
   ]
  },
  {
   "cell_type": "code",
   "execution_count": 15,
   "metadata": {
    "ExecuteTime": {
     "end_time": "2020-09-14T06:31:39.893752Z",
     "start_time": "2020-09-14T06:31:07.303991Z"
    }
   },
   "outputs": [],
   "source": [
    "data = pd.read_csv(\"отзывы за лето.csv\", sep=';')\n",
    "data = data[data['Rating'] != 3]\n",
    "data['Content'] = data['Content'].apply(preprocess_text)\n",
    "data['Rating'] = data['Rating'] > 3\n",
    "data['Rating'] = data['Rating'].astype(int)"
   ]
  },
  {
   "cell_type": "code",
   "execution_count": 18,
   "metadata": {
    "ExecuteTime": {
     "end_time": "2020-09-14T06:41:24.744214Z",
     "start_time": "2020-09-14T06:41:24.721414Z"
    }
   },
   "outputs": [],
   "source": [
    "max_len = 100\n",
    "max_words = 2000\n",
    "num_classes = 2"
   ]
  },
  {
   "cell_type": "code",
   "execution_count": 19,
   "metadata": {
    "ExecuteTime": {
     "end_time": "2020-09-14T06:41:45.712932Z",
     "start_time": "2020-09-14T06:41:40.622519Z"
    }
   },
   "outputs": [],
   "source": [
    "train, test = train_test_split(data,  random_state=42, test_size=0.2)\n",
    "train, val  = train_test_split(train, random_state=42, test_size=0.2)\n",
    "\n",
    "vocabulary = getVocabulary(\" \".join(train[\"Content\"]))\n",
    "\n",
    "def getX(df):\n",
    "    return np.asarray([text_to_sequence(text, max_len, vocabulary) for text in df[\"Content\"]], dtype=np.int32)\n",
    "\n",
    "x_train = getX(train)\n",
    "x_test = getX(test)\n",
    "x_val = getX(val)"
   ]
  },
  {
   "cell_type": "code",
   "execution_count": 20,
   "metadata": {
    "ExecuteTime": {
     "end_time": "2020-09-14T06:41:45.756423Z",
     "start_time": "2020-09-14T06:41:45.721783Z"
    }
   },
   "outputs": [
    {
     "data": {
      "text/plain": [
       "((12638, 100), (3950, 100), (3160, 100))"
      ]
     },
     "execution_count": 20,
     "metadata": {},
     "output_type": "execute_result"
    }
   ],
   "source": [
    "x_train.shape, x_test.shape, x_val.shape"
   ]
  },
  {
   "cell_type": "markdown",
   "metadata": {
    "colab_type": "text",
    "id": "V8FsvOED8UlF"
   },
   "source": [
    "### 1. Учим conv сеть для классификации - выбить auc выше 0.95"
   ]
  },
  {
   "cell_type": "code",
   "execution_count": 21,
   "metadata": {
    "ExecuteTime": {
     "end_time": "2020-09-14T06:42:24.854001Z",
     "start_time": "2020-09-14T06:42:24.836978Z"
    }
   },
   "outputs": [],
   "source": [
    "y_train = keras.utils.to_categorical(train[\"Rating\"], num_classes)\n",
    "y_val = keras.utils.to_categorical(val[\"Rating\"], num_classes)\n",
    "y_test = keras.utils.to_categorical(test[\"Rating\"], num_classes)"
   ]
  },
  {
   "cell_type": "code",
   "execution_count": 36,
   "metadata": {
    "ExecuteTime": {
     "end_time": "2020-09-14T07:05:39.444326Z",
     "start_time": "2020-09-14T07:05:39.337989Z"
    }
   },
   "outputs": [
    {
     "name": "stdout",
     "output_type": "stream",
     "text": [
      "Model: \"sequential_4\"\n",
      "_________________________________________________________________\n",
      "Layer (type)                 Output Shape              Param #   \n",
      "=================================================================\n",
      "embedding_4 (Embedding)      (None, 100, 128)          256000    \n",
      "_________________________________________________________________\n",
      "conv1d_22 (Conv1D)           (None, 98, 128)           49280     \n",
      "_________________________________________________________________\n",
      "activation_25 (Activation)   (None, 98, 128)           0         \n",
      "_________________________________________________________________\n",
      "conv1d_23 (Conv1D)           (None, 96, 128)           49280     \n",
      "_________________________________________________________________\n",
      "activation_26 (Activation)   (None, 96, 128)           0         \n",
      "_________________________________________________________________\n",
      "conv1d_24 (Conv1D)           (None, 94, 128)           49280     \n",
      "_________________________________________________________________\n",
      "activation_27 (Activation)   (None, 94, 128)           0         \n",
      "_________________________________________________________________\n",
      "global_max_pooling1d_4 (Glob (None, 128)               0         \n",
      "_________________________________________________________________\n",
      "dense_4 (Dense)              (None, 2)                 258       \n",
      "_________________________________________________________________\n",
      "activation_28 (Activation)   (None, 2)                 0         \n",
      "=================================================================\n",
      "Total params: 404,098\n",
      "Trainable params: 404,098\n",
      "Non-trainable params: 0\n",
      "_________________________________________________________________\n"
     ]
    }
   ],
   "source": [
    "nn = 128\n",
    "epochs = 30\n",
    "batch_size = 128\n",
    "\n",
    "\n",
    "model = Sequential()\n",
    "model.add(Embedding(input_dim=max_words, output_dim=nn, input_length=max_len))\n",
    "\n",
    "model.add(Conv1D(nn, 3))\n",
    "model.add(Activation(\"relu\"))\n",
    "\n",
    "model.add(Conv1D(nn, 3))\n",
    "model.add(Activation(\"relu\"))\n",
    "\n",
    "model.add(Conv1D(nn, 3))\n",
    "model.add(Activation(\"relu\"))\n",
    "\n",
    "model.add(GlobalMaxPool1D())\n",
    "\n",
    "model.add(Dense(num_classes))\n",
    "model.add(Activation('softmax'))\n",
    "\n",
    "model.summary()"
   ]
  },
  {
   "cell_type": "code",
   "execution_count": 37,
   "metadata": {
    "ExecuteTime": {
     "end_time": "2020-09-14T07:07:39.406450Z",
     "start_time": "2020-09-14T07:05:39.747133Z"
    },
    "scrolled": true
   },
   "outputs": [
    {
     "name": "stderr",
     "output_type": "stream",
     "text": [
      "/Users/xander/anaconda3/lib/python3.7/site-packages/tensorflow_core/python/framework/indexed_slices.py:433: UserWarning: Converting sparse IndexedSlices to a dense Tensor of unknown shape. This may consume a large amount of memory.\n",
      "  \"Converting sparse IndexedSlices to a dense Tensor of unknown shape. \"\n"
     ]
    },
    {
     "name": "stdout",
     "output_type": "stream",
     "text": [
      "Train on 12638 samples, validate on 3160 samples\n",
      "Epoch 1/30\n",
      "12638/12638 [==============================] - 29s 2ms/step - loss: 0.3000 - auc: 0.9451 - val_loss: 0.1991 - val_auc: 0.9761\n",
      "Epoch 2/30\n",
      "12638/12638 [==============================] - 29s 2ms/step - loss: 0.1654 - auc: 0.9834 - val_loss: 0.1862 - val_auc: 0.9790\n",
      "Epoch 3/30\n",
      "12638/12638 [==============================] - 30s 2ms/step - loss: 0.1293 - auc: 0.9895 - val_loss: 0.2003 - val_auc: 0.9764\n",
      "Epoch 4/30\n",
      "12638/12638 [==============================] - 28s 2ms/step - loss: 0.1017 - auc: 0.9931 - val_loss: 0.2235 - val_auc: 0.9738\n"
     ]
    }
   ],
   "source": [
    "model.compile(loss='binary_crossentropy', optimizer='adam', metrics=[keras.metrics.AUC(name='auc')])\n",
    "\n",
    "early_stopping=EarlyStopping(monitor='val_loss', patience=2)\n",
    "\n",
    "history = model.fit(x_train, y_train, batch_size=batch_size, epochs=epochs, verbose=1, \n",
    "                    validation_data=(x_val, y_val),\n",
    "                    callbacks=[early_stopping])"
   ]
  },
  {
   "cell_type": "code",
   "execution_count": 38,
   "metadata": {
    "ExecuteTime": {
     "end_time": "2020-09-14T07:08:27.706700Z",
     "start_time": "2020-09-14T07:08:25.418114Z"
    },
    "scrolled": true
   },
   "outputs": [
    {
     "name": "stdout",
     "output_type": "stream",
     "text": [
      "3950/3950 [==============================] - 2s 578us/step\n",
      "Test score: 0.22148458495924744\n",
      "Test accuracy: 0.9735473990440369\n"
     ]
    }
   ],
   "source": [
    "score = model.evaluate(x_test, y_test, batch_size=batch_size, verbose=1)\n",
    "print('Test score:', score[0])\n",
    "print('Test accuracy:', score[1])"
   ]
  },
  {
   "cell_type": "code",
   "execution_count": 39,
   "metadata": {
    "ExecuteTime": {
     "end_time": "2020-09-14T07:08:36.590326Z",
     "start_time": "2020-09-14T07:08:36.238307Z"
    }
   },
   "outputs": [
    {
     "data": {
      "image/png": "[encoded data removed]",
      "text/plain": [
       "<Figure size 1080x720 with 1 Axes>"
      ]
     },
     "metadata": {
      "needs_background": "light"
     },
     "output_type": "display_data"
    }
   ],
   "source": [
    "plt.figure(figsize=(15,10))\n",
    "plt.title('Loss history')\n",
    "plt.grid(True)\n",
    "plt.ylabel('Train loss')\n",
    "plt.xlabel('Step')\n",
    "plt.plot(history.history['auc']);\n",
    "plt.show()"
   ]
  },
  {
   "cell_type": "markdown",
   "metadata": {
    "colab_type": "text",
    "id": "V8FsvOED8UlF"
   },
   "source": [
    "### 2. Предобучаем word2vec и его эмбединга инициализируем сетку, как влияет на качество?"
   ]
  },
  {
   "cell_type": "code",
   "execution_count": 43,
   "metadata": {
    "ExecuteTime": {
     "end_time": "2020-09-14T07:47:51.210606Z",
     "start_time": "2020-09-14T07:47:49.864693Z"
    }
   },
   "outputs": [],
   "source": [
    "import gensim \n",
    "from gensim.models import Word2Vec"
   ]
  },
  {
   "cell_type": "code",
   "execution_count": 42,
   "metadata": {
    "ExecuteTime": {
     "end_time": "2020-09-14T07:47:25.493498Z",
     "start_time": "2020-09-14T07:47:25.418179Z"
    }
   },
   "outputs": [],
   "source": [
    "words = train.Content.apply(lambda x: x.split())\n",
    "w2v = gensim.models.Word2Vec(words, min_count = 1, size = max_len, window = 5)"
   ]
  },
  {
   "cell_type": "code",
   "execution_count": 75,
   "metadata": {
    "ExecuteTime": {
     "end_time": "2020-09-14T08:16:36.362185Z",
     "start_time": "2020-09-14T08:16:36.353774Z"
    }
   },
   "outputs": [],
   "source": [
    "def vec(x):\n",
    "    words = x.split()\n",
    "    vec = np.zeros((max_len,))\n",
    "    cnt = 0\n",
    "    for i in x:\n",
    "        if i in w2v.wv:\n",
    "            vec += w2v.wv[i]\n",
    "            cnt += 1\n",
    "    return vec / cnt if cnt>0 else vec"
   ]
  },
  {
   "cell_type": "code",
   "execution_count": 78,
   "metadata": {
    "ExecuteTime": {
     "end_time": "2020-09-14T08:17:59.886598Z",
     "start_time": "2020-09-14T08:17:55.501204Z"
    }
   },
   "outputs": [],
   "source": [
    "def getWX(df):\n",
    "    return np.asarray([vec(text) for text in df[\"Content\"]], dtype=float)\n",
    "\n",
    "x_train = getX(train)\n",
    "x_test = getX(test)\n",
    "x_val = getX(val)"
   ]
  },
  {
   "cell_type": "code",
   "execution_count": 79,
   "metadata": {
    "ExecuteTime": {
     "end_time": "2020-09-14T08:17:59.902389Z",
     "start_time": "2020-09-14T08:17:59.891301Z"
    }
   },
   "outputs": [],
   "source": [
    "y_train = keras.utils.to_categorical(train[\"Rating\"], num_classes)\n",
    "y_val = keras.utils.to_categorical(val[\"Rating\"], num_classes)\n",
    "y_test = keras.utils.to_categorical(test[\"Rating\"], num_classes)"
   ]
  },
  {
   "cell_type": "code",
   "execution_count": 80,
   "metadata": {
    "ExecuteTime": {
     "end_time": "2020-09-14T08:18:02.001948Z",
     "start_time": "2020-09-14T08:18:01.805961Z"
    }
   },
   "outputs": [
    {
     "name": "stdout",
     "output_type": "stream",
     "text": [
      "Model: \"sequential_5\"\n",
      "_________________________________________________________________\n",
      "Layer (type)                 Output Shape              Param #   \n",
      "=================================================================\n",
      "embedding_5 (Embedding)      (None, 100, 128)          256000    \n",
      "_________________________________________________________________\n",
      "conv1d_25 (Conv1D)           (None, 98, 128)           49280     \n",
      "_________________________________________________________________\n",
      "activation_29 (Activation)   (None, 98, 128)           0         \n",
      "_________________________________________________________________\n",
      "conv1d_26 (Conv1D)           (None, 96, 128)           49280     \n",
      "_________________________________________________________________\n",
      "activation_30 (Activation)   (None, 96, 128)           0         \n",
      "_________________________________________________________________\n",
      "conv1d_27 (Conv1D)           (None, 94, 128)           49280     \n",
      "_________________________________________________________________\n",
      "activation_31 (Activation)   (None, 94, 128)           0         \n",
      "_________________________________________________________________\n",
      "global_max_pooling1d_5 (Glob (None, 128)               0         \n",
      "_________________________________________________________________\n",
      "dense_5 (Dense)              (None, 2)                 258       \n",
      "_________________________________________________________________\n",
      "activation_32 (Activation)   (None, 2)                 0         \n",
      "=================================================================\n",
      "Total params: 404,098\n",
      "Trainable params: 404,098\n",
      "Non-trainable params: 0\n",
      "_________________________________________________________________\n"
     ]
    }
   ],
   "source": [
    "nn = 128\n",
    "epochs = 30\n",
    "batch_size = 128\n",
    "\n",
    "\n",
    "model = Sequential()\n",
    "model.add(Embedding(input_dim=max_words, output_dim=nn, input_length=max_len))\n",
    "\n",
    "model.add(Conv1D(nn, 3))\n",
    "model.add(Activation(\"relu\"))\n",
    "\n",
    "model.add(Conv1D(nn, 3))\n",
    "model.add(Activation(\"relu\"))\n",
    "\n",
    "model.add(Conv1D(nn, 3))\n",
    "model.add(Activation(\"relu\"))\n",
    "\n",
    "model.add(GlobalMaxPool1D())\n",
    "\n",
    "model.add(Dense(num_classes))\n",
    "model.add(Activation('softmax'))\n",
    "\n",
    "model.summary()"
   ]
  },
  {
   "cell_type": "code",
   "execution_count": 81,
   "metadata": {
    "ExecuteTime": {
     "end_time": "2020-09-14T08:20:10.837358Z",
     "start_time": "2020-09-14T08:18:07.715993Z"
    }
   },
   "outputs": [
    {
     "name": "stderr",
     "output_type": "stream",
     "text": [
      "/Users/xander/anaconda3/lib/python3.7/site-packages/tensorflow_core/python/framework/indexed_slices.py:433: UserWarning: Converting sparse IndexedSlices to a dense Tensor of unknown shape. This may consume a large amount of memory.\n",
      "  \"Converting sparse IndexedSlices to a dense Tensor of unknown shape. \"\n"
     ]
    },
    {
     "name": "stdout",
     "output_type": "stream",
     "text": [
      "Train on 12638 samples, validate on 3160 samples\n",
      "Epoch 1/30\n",
      "12638/12638 [==============================] - 32s 3ms/step - loss: 0.3133 - auc: 0.9402 - val_loss: 0.2085 - val_auc: 0.9757\n",
      "Epoch 2/30\n",
      "12638/12638 [==============================] - 30s 2ms/step - loss: 0.1700 - auc: 0.9825 - val_loss: 0.1904 - val_auc: 0.9791\n",
      "Epoch 3/30\n",
      "12638/12638 [==============================] - 30s 2ms/step - loss: 0.1323 - auc: 0.9892 - val_loss: 0.1974 - val_auc: 0.9783\n",
      "Epoch 4/30\n",
      "12638/12638 [==============================] - 30s 2ms/step - loss: 0.1060 - auc: 0.9926 - val_loss: 0.2202 - val_auc: 0.9757\n"
     ]
    }
   ],
   "source": [
    "model.compile(loss='binary_crossentropy', optimizer='adam', metrics=[keras.metrics.AUC(name='auc')])\n",
    "\n",
    "early_stopping=EarlyStopping(monitor='val_loss', patience=2)\n",
    "\n",
    "history = model.fit(x_train, y_train, batch_size=batch_size, epochs=epochs, verbose=1, \n",
    "                    validation_data=(x_val, y_val),\n",
    "                    callbacks=[early_stopping])"
   ]
  },
  {
   "cell_type": "code",
   "execution_count": 82,
   "metadata": {
    "ExecuteTime": {
     "end_time": "2020-09-14T08:20:13.259384Z",
     "start_time": "2020-09-14T08:20:10.841511Z"
    },
    "scrolled": true
   },
   "outputs": [
    {
     "name": "stdout",
     "output_type": "stream",
     "text": [
      "3950/3950 [==============================] - 2s 610us/step\n",
      "Test score: 0.21841178211984755\n",
      "Test accuracy: 0.9748163819313049\n"
     ]
    }
   ],
   "source": [
    "score = model.evaluate(x_test, y_test, batch_size=batch_size, verbose=1)\n",
    "print('Test score:', score[0])\n",
    "print('Test accuracy:', score[1])"
   ]
  },
  {
   "cell_type": "markdown",
   "metadata": {},
   "source": [
    "> **Вывод: возможно мне показалось но word2vec вариант работает немного лучше по качеству**"
   ]
  }
 ],
 "metadata": {
  "colab": {
   "collapsed_sections": [],
   "name": "dl-nlp-cnn1.ipynb",
   "provenance": []
  },
  "kernelspec": {
   "display_name": "Python 3",
   "language": "python",
   "name": "python3"
  },
  "language_info": {
   "codemirror_mode": {
    "name": "ipython",
    "version": 3
   },
   "file_extension": ".py",
   "mimetype": "text/x-python",
   "name": "python",
   "nbconvert_exporter": "python",
   "pygments_lexer": "ipython3",
   "version": "3.7.1"
  },
  "toc": {
   "base_numbering": 1,
   "nav_menu": {},
   "number_sections": true,
   "sideBar": true,
   "skip_h1_title": false,
   "title_cell": "Table of Contents",
   "title_sidebar": "Contents",
   "toc_cell": false,
   "toc_position": {},
   "toc_section_display": true,
   "toc_window_display": false
  }
 },
 "nbformat": 4,
 "nbformat_minor": 1
}
