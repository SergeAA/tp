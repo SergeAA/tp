{
 "cells": [
  {
   "cell_type": "markdown",
   "metadata": {
    "colab_type": "text",
    "id": "V8FsvOED8UlF"
   },
   "source": [
    "# ДЗ №5\n",
    "\n",
    "Задание из 2-х частей.\n",
    "Берем отызывы за лето (из архива с материалами или предыдущего занятия)"
   ]
  },
  {
   "cell_type": "markdown",
   "metadata": {
    "colab_type": "text",
    "id": "V8FsvOED8UlF"
   },
   "source": [
    "### Загрузка данных"
   ]
  },
  {
   "cell_type": "code",
   "execution_count": 155,
   "metadata": {
    "ExecuteTime": {
     "end_time": "2020-09-12T02:46:09.924716Z",
     "start_time": "2020-09-12T02:46:09.916112Z"
    }
   },
   "outputs": [],
   "source": [
    "import numpy as np\n",
    "import pandas as pd\n",
    "import matplotlib.pyplot as plt\n",
    "\n",
    "from sklearn.model_selection import train_test_split\n",
    "from string import punctuation\n",
    "from stop_words import get_stop_words\n",
    "from pymorphy2 import MorphAnalyzer\n",
    "import re\n",
    "import nltk\n",
    "from nltk.tokenize import word_tokenize\n",
    "from nltk.probability import FreqDist\n",
    "# nltk.download(\"punkt\")\n",
    "\n",
    "import keras\n",
    "from keras.models import Sequential, Model\n",
    "from keras.layers import Dense, Dropout, Activation, Input, Embedding, Conv1D, GlobalMaxPool1D, MaxPooling1D\n",
    "from keras.preprocessing.text import Tokenizer\n",
    "from keras.preprocessing.sequence import pad_sequences\n",
    "from keras.objectives import categorical_crossentropy\n",
    "from keras.callbacks import EarlyStopping  "
   ]
  },
  {
   "cell_type": "code",
   "execution_count": 72,
   "metadata": {
    "ExecuteTime": {
     "end_time": "2020-09-12T01:47:10.062630Z",
     "start_time": "2020-09-12T01:47:09.975449Z"
    }
   },
   "outputs": [],
   "source": [
    "sw = set(get_stop_words(\"ru\"))\n",
    "exclude = set(punctuation)\n",
    "morpher = MorphAnalyzer()\n",
    "\n",
    "def preprocess_text(txt):\n",
    "    txt = str(txt)\n",
    "    txt = \"\".join(c for c in txt if c not in exclude)\n",
    "    txt = txt.lower()\n",
    "    txt = re.sub(\"\\sне\", \"не\", txt)\n",
    "    txt = [morpher.parse(word)[0].normal_form for word in txt.split() if word not in sw]\n",
    "    return \" \".join(txt)\n",
    "\n",
    "def getVocabulary(corpus):\n",
    "    tokens = word_tokenize(corpus.lower())\n",
    "    tokens_filtered = [word for word in tokens if word.isalnum()]\n",
    "\n",
    "    dist = FreqDist(tokens_filtered)\n",
    "    tokens_filtered_top = [pair[0] for pair in dist.most_common(max_words-1)]\n",
    "\n",
    "    return {v: k for k, v in dict(enumerate(tokens_filtered_top, 1)).items()}\n",
    "\n",
    "def text_to_sequence(text, maxlen, vocabulary):\n",
    "    result = []\n",
    "    tokens = word_tokenize(text.lower())\n",
    "    tokens_filtered = [word for word in tokens if word.isalnum()]\n",
    "    for word in tokens_filtered:\n",
    "        if word in vocabulary:\n",
    "            result.append(vocabulary[word])\n",
    "    padding = [0]*(maxlen-len(result))\n",
    "    return padding + result[-maxlen:]"
   ]
  },
  {
   "cell_type": "code",
   "execution_count": 85,
   "metadata": {
    "ExecuteTime": {
     "end_time": "2020-09-12T01:53:11.382219Z",
     "start_time": "2020-09-12T01:52:43.414752Z"
    }
   },
   "outputs": [],
   "source": [
    "data = pd.read_csv(\"отзывы за лето.csv\", sep=';')\n",
    "data['Content'] = data['Content'].apply(preprocess_text)\n",
    "data['Rating'] = data['Rating']-1"
   ]
  },
  {
   "cell_type": "code",
   "execution_count": 139,
   "metadata": {
    "ExecuteTime": {
     "end_time": "2020-09-12T02:34:04.890959Z",
     "start_time": "2020-09-12T02:34:04.879272Z"
    }
   },
   "outputs": [],
   "source": [
    "max_len = 100\n",
    "max_words = 2000\n",
    "num_classes = data['Rating'].nunique()"
   ]
  },
  {
   "cell_type": "code",
   "execution_count": 140,
   "metadata": {
    "ExecuteTime": {
     "end_time": "2020-09-12T02:34:09.886883Z",
     "start_time": "2020-09-12T02:34:05.294044Z"
    }
   },
   "outputs": [],
   "source": [
    "train, test = train_test_split(data,  random_state=42, test_size=0.2)\n",
    "train, val  = train_test_split(train, random_state=42, test_size=0.2)\n",
    "\n",
    "vocabulary = getVocabulary(\" \".join(train[\"Content\"]))\n",
    "\n",
    "def getX(df):\n",
    "    return np.asarray([text_to_sequence(text, max_len, vocabulary) for text in df[\"Content\"]], dtype=np.int32)\n",
    "\n",
    "x_train = getX(train)\n",
    "x_test = getX(test)\n",
    "x_val = getX(val)"
   ]
  },
  {
   "cell_type": "code",
   "execution_count": 141,
   "metadata": {
    "ExecuteTime": {
     "end_time": "2020-09-12T02:34:09.898032Z",
     "start_time": "2020-09-12T02:34:09.889982Z"
    }
   },
   "outputs": [
    {
     "data": {
      "text/plain": [
       "((13221, 100), (4132, 100), (3306, 100))"
      ]
     },
     "execution_count": 141,
     "metadata": {},
     "output_type": "execute_result"
    }
   ],
   "source": [
    "x_train.shape, x_test.shape, x_val.shape"
   ]
  },
  {
   "cell_type": "markdown",
   "metadata": {
    "colab_type": "text",
    "id": "V8FsvOED8UlF"
   },
   "source": [
    "### 1. Учим conv сеть для классификации - выбить auc выше 0.95"
   ]
  },
  {
   "cell_type": "code",
   "execution_count": 142,
   "metadata": {
    "ExecuteTime": {
     "end_time": "2020-09-12T02:34:10.263115Z",
     "start_time": "2020-09-12T02:34:10.255197Z"
    }
   },
   "outputs": [],
   "source": [
    "y_train = keras.utils.to_categorical(train[\"Rating\"], num_classes)\n",
    "y_val = keras.utils.to_categorical(val[\"Rating\"], num_classes)\n",
    "y_test = keras.utils.to_categorical(test[\"Rating\"], num_classes)"
   ]
  },
  {
   "cell_type": "code",
   "execution_count": 174,
   "metadata": {
    "ExecuteTime": {
     "end_time": "2020-09-12T03:00:08.229672Z",
     "start_time": "2020-09-12T03:00:08.079153Z"
    }
   },
   "outputs": [
    {
     "name": "stdout",
     "output_type": "stream",
     "text": [
      "Model: \"sequential_24\"\n",
      "_________________________________________________________________\n",
      "Layer (type)                 Output Shape              Param #   \n",
      "=================================================================\n",
      "embedding_24 (Embedding)     (None, 100, 256)          512000    \n",
      "_________________________________________________________________\n",
      "conv1d_64 (Conv1D)           (None, 91, 256)           655616    \n",
      "_________________________________________________________________\n",
      "activation_91 (Activation)   (None, 91, 256)           0         \n",
      "_________________________________________________________________\n",
      "conv1d_65 (Conv1D)           (None, 87, 256)           327936    \n",
      "_________________________________________________________________\n",
      "activation_92 (Activation)   (None, 87, 256)           0         \n",
      "_________________________________________________________________\n",
      "conv1d_66 (Conv1D)           (None, 85, 256)           196864    \n",
      "_________________________________________________________________\n",
      "activation_93 (Activation)   (None, 85, 256)           0         \n",
      "_________________________________________________________________\n",
      "conv1d_67 (Conv1D)           (None, 83, 256)           196864    \n",
      "_________________________________________________________________\n",
      "activation_94 (Activation)   (None, 83, 256)           0         \n",
      "_________________________________________________________________\n",
      "max_pooling1d_37 (MaxPooling (None, 27, 256)           0         \n",
      "_________________________________________________________________\n",
      "conv1d_68 (Conv1D)           (None, 25, 256)           196864    \n",
      "_________________________________________________________________\n",
      "activation_95 (Activation)   (None, 25, 256)           0         \n",
      "_________________________________________________________________\n",
      "max_pooling1d_38 (MaxPooling (None, 8, 256)            0         \n",
      "_________________________________________________________________\n",
      "global_max_pooling1d_20 (Glo (None, 256)               0         \n",
      "_________________________________________________________________\n",
      "dense_40 (Dense)             (None, 5)                 1285      \n",
      "_________________________________________________________________\n",
      "activation_96 (Activation)   (None, 5)                 0         \n",
      "=================================================================\n",
      "Total params: 2,087,429\n",
      "Trainable params: 2,087,429\n",
      "Non-trainable params: 0\n",
      "_________________________________________________________________\n"
     ]
    }
   ],
   "source": [
    "nn = 128\n",
    "\n",
    "model = Sequential()\n",
    "model.add(Embedding(input_dim=max_words, output_dim=nn, input_length=max_len))\n",
    "\n",
    "model.add(Conv1D(nn, 10))\n",
    "model.add(Activation(\"relu\"))\n",
    "\n",
    "model.add(Conv1D(nn, 5))\n",
    "model.add(Activation(\"relu\"))\n",
    "\n",
    "model.add(Conv1D(nn, 3))\n",
    "model.add(Activation(\"relu\"))\n",
    "\n",
    "model.add(Conv1D(nn, 3))\n",
    "model.add(Activation(\"relu\"))\n",
    "model.add(MaxPooling1D(3))\n",
    "\n",
    "model.add(Conv1D(nn, 3))\n",
    "model.add(Activation(\"relu\"))\n",
    "model.add(MaxPooling1D(3))\n",
    "\n",
    "model.add(GlobalMaxPool1D())\n",
    "\n",
    "model.add(Dense(nn))\n",
    "model.add(Activation(\"relu\"))\n",
    "\n",
    "model.add(Dense(num_classes))\n",
    "model.add(Activation('softmax'))\n",
    "\n",
    "model.summary()"
   ]
  },
  {
   "cell_type": "code",
   "execution_count": null,
   "metadata": {
    "ExecuteTime": {
     "start_time": "2020-09-12T03:00:32.914Z"
    }
   },
   "outputs": [
    {
     "name": "stderr",
     "output_type": "stream",
     "text": [
      "/Users/xander/anaconda3/lib/python3.7/site-packages/tensorflow_core/python/framework/indexed_slices.py:433: UserWarning: Converting sparse IndexedSlices to a dense Tensor of unknown shape. This may consume a large amount of memory.\n",
      "  \"Converting sparse IndexedSlices to a dense Tensor of unknown shape. \"\n"
     ]
    },
    {
     "name": "stdout",
     "output_type": "stream",
     "text": [
      "Train on 13221 samples, validate on 3306 samples\n",
      "Epoch 1/30\n",
      "13221/13221 [==============================] - 211s 16ms/step - loss: 1.1054 - accuracy: 0.6826 - val_loss: 0.9023 - val_accuracy: 0.7275\n",
      "Epoch 2/30\n",
      " 4096/13221 [========>.....................] - ETA: 2:39 - loss: 0.9617 - accuracy: 0.7273"
     ]
    }
   ],
   "source": [
    "model.compile(loss='categorical_crossentropy', optimizer='adam', metrics=['accuracy'])\n",
    "\n",
    "epochs = 30\n",
    "batch_size = 512\n",
    "\n",
    "early_stopping=EarlyStopping(monitor='val_loss', patience=3)\n",
    "\n",
    "history = model.fit(x_train, y_train, batch_size=batch_size, epochs=epochs, verbose=1, \n",
    "                    validation_data=(x_val, y_val),\n",
    "                    callbacks=[early_stopping])"
   ]
  },
  {
   "cell_type": "code",
   "execution_count": 146,
   "metadata": {
    "ExecuteTime": {
     "end_time": "2020-09-12T02:38:19.754260Z",
     "start_time": "2020-09-12T02:38:18.199707Z"
    }
   },
   "outputs": [
    {
     "name": "stdout",
     "output_type": "stream",
     "text": [
      "4132/4132 [==============================] - 2s 375us/step\n",
      "Test score: 0.738131383381647\n",
      "Test accuracy: 0.765972912311554\n"
     ]
    }
   ],
   "source": [
    "score = model.evaluate(x_test, y_test, batch_size=batch_size, verbose=1)\n",
    "print('Test score:', score[0])\n",
    "print('Test accuracy:', score[1])"
   ]
  },
  {
   "cell_type": "code",
   "execution_count": 151,
   "metadata": {
    "ExecuteTime": {
     "end_time": "2020-09-12T02:39:50.381743Z",
     "start_time": "2020-09-12T02:39:50.108187Z"
    }
   },
   "outputs": [
    {
     "data": {
      "image/png": "[encoded data removed]",
      "text/plain": [
       "<Figure size 1080x720 with 1 Axes>"
      ]
     },
     "metadata": {
      "needs_background": "light"
     },
     "output_type": "display_data"
    }
   ],
   "source": [
    "plt.figure(figsize=(15,10))\n",
    "plt.title('Loss history')\n",
    "plt.grid(True)\n",
    "plt.ylabel('Train loss')\n",
    "plt.xlabel('Step')\n",
    "plt.plot(history.history['val_accuracy']);\n",
    "plt.show()"
   ]
  },
  {
   "cell_type": "markdown",
   "metadata": {
    "colab_type": "text",
    "id": "V8FsvOED8UlF"
   },
   "source": [
    "### 2. Предобучаем word2vec и его эмбединга инициализируем сетку, как влияет на качество?"
   ]
  },
  {
   "cell_type": "code",
   "execution_count": null,
   "metadata": {
    "ExecuteTime": {
     "start_time": "2020-09-12T03:05:10.123Z"
    }
   },
   "outputs": [],
   "source": [
    "# Work IN Progress"
   ]
  }
 ],
 "metadata": {
  "colab": {
   "collapsed_sections": [],
   "name": "dl-nlp-cnn1.ipynb",
   "provenance": []
  },
  "kernelspec": {
   "display_name": "Python 3",
   "language": "python",
   "name": "python3"
  },
  "language_info": {
   "codemirror_mode": {
    "name": "ipython",
    "version": 3
   },
   "file_extension": ".py",
   "mimetype": "text/x-python",
   "name": "python",
   "nbconvert_exporter": "python",
   "pygments_lexer": "ipython3",
   "version": "3.7.1"
  },
  "toc": {
   "base_numbering": 1,
   "nav_menu": {},
   "number_sections": true,
   "sideBar": true,
   "skip_h1_title": false,
   "title_cell": "Table of Contents",
   "title_sidebar": "Contents",
   "toc_cell": false,
   "toc_position": {},
   "toc_section_display": true,
   "toc_window_display": false
  }
 },
 "nbformat": 4,
 "nbformat_minor": 1
}
